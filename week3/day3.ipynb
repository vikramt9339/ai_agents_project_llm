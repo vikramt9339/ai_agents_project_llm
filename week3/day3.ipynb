{
 "cells": [
  {
   "cell_type": "markdown",
   "metadata": {},
   "source": [
    "https://colab.research.google.com/drive/1GVT-1bxkmhkTvDR4pLrKacXxa-2Rx8lt#scrollTo=lZoruCVrFgn1\n"
   ]
  }
 ],
 "metadata": {
  "language_info": {
   "name": "python"
  }
 },
 "nbformat": 4,
 "nbformat_minor": 2
}
