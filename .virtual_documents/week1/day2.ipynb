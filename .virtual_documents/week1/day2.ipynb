import requests
from bs4 import BeautifulSoup
from IPython.display import Markdown, display


OLLAMA_API = "http://localhost:11434/api/chat"
HEADERS = {"Content-Type": "application/json"}
MODEL = "llama3.2"


messages = [
    {"role": "user", "content": "Describe some of the business applications of Generative AI"}
]


payload = {
        "model": MODEL,
        "messages": messages,
        "stream": False
    }


response = requests.post(OLLAMA_API, json=payload, headers=HEADERS)
print(response.json()['message']['content'])


import ollama

response = ollama.chat(model=MODEL, messages=messages)
print(response['message']['content'])


# A class to represent a Webpage
# If you're not familiar with Classes, check out the "Intermediate Python" notebook

# Some websites need you to use proper headers when fetching them:
headers = {
 "User-Agent": "Mozilla/5.0 (Windows NT 10.0; Win64; x64) AppleWebKit/537.36 (KHTML, like Gecko) Chrome/117.0.0.0 Safari/537.36"
}

class Website:

    def __init__(self, url):
        """
        Create this Website object from the given url using the BeautifulSoup library
        """
        self.url = url
        response = requests.get(url, headers=headers)
        soup = BeautifulSoup(response.content, 'html.parser')
        self.title = soup.title.string if soup.title else "No title found"
        for irrelevant in soup.body(["script", "style", "img", "input"]):
            irrelevant.decompose()
        self.text = soup.body.get_text(separator="\n", strip=True)


ed = Website("https://edwarddonner.com")
print("Title: ", ed.title)
print("Text: ", ed.text)


system_prompt = "You are an assistant that analyzes the contents of a website \
and provides a short summary, ignoring text that might be navigation related. \
Respond in markdown."


def user_prompt_for(website):
    user_prompt = f"You are looking at a website titled {website.title}"
    user_prompt += "\nThe contents of this website is as follows; \
please provide a short summary of this website in markdown. \
If it includes news or announcements, then summarize these too.\n\n"
    user_prompt += website.text
    return user_prompt


print(user_prompt_for(ed))


messages = [
    {"role": "system", "content": "You are a snarky assistant"},
    {"role": "user", "content": "What is 2 + 2?"}
]


import ollama

response = ollama.chat(model="llama3.2", messages=messages)
print(response['message']['content'])


def messages_for(website):
    return [
        {"role": "system", "content": system_prompt},
        {"role": "user", "content": user_prompt_for(website)}
    ]


messages_for(ed)


def summarize(url):
    Website = Website(url)
    response = ollama.chat(model="llama3.2", messages=messages_for(Website))
    return response['message']['content']


summarize("https://edwarddonner.com")



